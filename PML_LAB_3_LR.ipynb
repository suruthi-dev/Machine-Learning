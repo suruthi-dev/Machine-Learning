{
  "nbformat": 4,
  "nbformat_minor": 0,
  "metadata": {
    "colab": {
      "provenance": []
    },
    "kernelspec": {
      "name": "python3",
      "display_name": "Python 3"
    },
    "language_info": {
      "name": "python"
    }
  },
  "cells": [
    {
      "cell_type": "markdown",
      "source": [
        "# Step 2 : Importing Dataset"
      ],
      "metadata": {
        "id": "A5IlsVCgLP4d"
      }
    },
    {
      "cell_type": "code",
      "execution_count": null,
      "metadata": {
        "id": "J10fOM2X1ue2"
      },
      "outputs": [],
      "source": [
        "import pandas as pd\n",
        "import matplotlib.pyplot as plt\n",
        "import seaborn as sns\n",
        "import numpy as np"
      ]
    },
    {
      "cell_type": "code",
      "source": [
        "data = pd.read_csv(\"/content/fueldata.csv\")"
      ],
      "metadata": {
        "id": "Esx7YRti1vs7"
      },
      "execution_count": null,
      "outputs": []
    },
    {
      "cell_type": "code",
      "source": [
        "data.head()"
      ],
      "metadata": {
        "id": "3P3bYSGl1vvp"
      },
      "execution_count": null,
      "outputs": []
    },
    {
      "cell_type": "code",
      "source": [
        "data.shape"
      ],
      "metadata": {
        "colab": {
          "base_uri": "https://localhost:8080/"
        },
        "id": "paa9Ru-g1vyg",
        "outputId": "5d047565-3090-48d1-900e-b33942421fc1"
      },
      "execution_count": null,
      "outputs": [
        {
          "output_type": "execute_result",
          "data": {
            "text/plain": [
              "(19, 2)"
            ]
          },
          "metadata": {},
          "execution_count": 6
        }
      ]
    },
    {
      "cell_type": "code",
      "source": [
        "data.columns"
      ],
      "metadata": {
        "colab": {
          "base_uri": "https://localhost:8080/"
        },
        "id": "YO8yDd9A1v1r",
        "outputId": "6729fffb-b7a5-42d5-9a7e-09c65958360d"
      },
      "execution_count": null,
      "outputs": [
        {
          "output_type": "execute_result",
          "data": {
            "text/plain": [
              "Index(['drivenKm', 'fuelAmount'], dtype='object')"
            ]
          },
          "metadata": {},
          "execution_count": 7
        }
      ]
    },
    {
      "cell_type": "code",
      "source": [
        "data.dtypes"
      ],
      "metadata": {
        "colab": {
          "base_uri": "https://localhost:8080/"
        },
        "id": "Xnl-y34X1v7Y",
        "outputId": "4f146b6c-c773-4d6c-b2ec-5478a0908bc8"
      },
      "execution_count": null,
      "outputs": [
        {
          "output_type": "execute_result",
          "data": {
            "text/plain": [
              "drivenKm      float64\n",
              "fuelAmount    float64\n",
              "dtype: object"
            ]
          },
          "metadata": {},
          "execution_count": 8
        }
      ]
    },
    {
      "cell_type": "code",
      "source": [
        "data.info()"
      ],
      "metadata": {
        "colab": {
          "base_uri": "https://localhost:8080/"
        },
        "id": "HYNRzcmW1v4z",
        "outputId": "1c96a7d7-2263-407f-c4d0-180625c4d231"
      },
      "execution_count": null,
      "outputs": [
        {
          "output_type": "stream",
          "name": "stdout",
          "text": [
            "<class 'pandas.core.frame.DataFrame'>\n",
            "RangeIndex: 19 entries, 0 to 18\n",
            "Data columns (total 2 columns):\n",
            " #   Column      Non-Null Count  Dtype  \n",
            "---  ------      --------------  -----  \n",
            " 0   drivenKm    19 non-null     float64\n",
            " 1   fuelAmount  19 non-null     float64\n",
            "dtypes: float64(2)\n",
            "memory usage: 432.0 bytes\n"
          ]
        }
      ]
    },
    {
      "cell_type": "markdown",
      "source": [
        "# STEP 3: Pre Processing"
      ],
      "metadata": {
        "id": "cogtHwVg2_RQ"
      }
    },
    {
      "cell_type": "code",
      "source": [
        "data.isnull().sum()"
      ],
      "metadata": {
        "colab": {
          "base_uri": "https://localhost:8080/",
          "height": 165
        },
        "id": "QZQNaIMx1v-a",
        "outputId": "3b823145-fbb3-4f39-d275-ec754d0c2639"
      },
      "execution_count": null,
      "outputs": [
        {
          "output_type": "error",
          "ename": "AttributeError",
          "evalue": "ignored",
          "traceback": [
            "\u001b[0;31m---------------------------------------------------------------------------\u001b[0m",
            "\u001b[0;31mAttributeError\u001b[0m                            Traceback (most recent call last)",
            "\u001b[0;32m<ipython-input-77-2962204f287d>\u001b[0m in \u001b[0;36m<module>\u001b[0;34m\u001b[0m\n\u001b[0;32m----> 1\u001b[0;31m \u001b[0mdata\u001b[0m\u001b[0;34m.\u001b[0m\u001b[0misnull\u001b[0m\u001b[0;34m(\u001b[0m\u001b[0;34m)\u001b[0m\u001b[0;34m.\u001b[0m\u001b[0msum\u001b[0m\u001b[0;34m(\u001b[0m\u001b[0;34m)\u001b[0m\u001b[0;34m\u001b[0m\u001b[0;34m\u001b[0m\u001b[0m\n\u001b[0m",
            "\u001b[0;31mAttributeError\u001b[0m: 'list' object has no attribute 'isnull'"
          ]
        }
      ]
    },
    {
      "cell_type": "markdown",
      "source": [
        "# Step 4 : Vizualize Relationship"
      ],
      "metadata": {
        "id": "VR-EY8vA3UY2"
      }
    },
    {
      "cell_type": "code",
      "source": [
        "sns.relplot(data = data,x=data.drivenKm,y=data.fuelAmount)"
      ],
      "metadata": {
        "colab": {
          "base_uri": "https://localhost:8080/",
          "height": 386
        },
        "id": "wGtlA1fv1wBT",
        "outputId": "75c578f1-2b3c-4f67-ca66-54912f785283"
      },
      "execution_count": null,
      "outputs": [
        {
          "output_type": "execute_result",
          "data": {
            "text/plain": [
              "<seaborn.axisgrid.FacetGrid at 0x7f3d2795ffa0>"
            ]
          },
          "metadata": {},
          "execution_count": 11
        },
        {
          "output_type": "display_data",
          "data": {
            "text/plain": [
              "<Figure size 360x360 with 1 Axes>"
            ],
            "image/png": "[encoded data removed]"
          },
          "metadata": {
            "needs_background": "light"
          }
        }
      ]
    },
    {
      "cell_type": "markdown",
      "source": [
        "\n",
        "# STEP 5 Prepare X Matrix and Y vector"
      ],
      "metadata": {
        "id": "pglvKfrw4G2-"
      }
    },
    {
      "cell_type": "code",
      "source": [
        "feature_list = data[['drivenKm']]"
      ],
      "metadata": {
        "id": "OP9h4q_F1wD4"
      },
      "execution_count": null,
      "outputs": []
    },
    {
      "cell_type": "code",
      "source": [
        "feature_list"
      ],
      "metadata": {
        "id": "S0WsystA1wGp"
      },
      "execution_count": null,
      "outputs": []
    },
    {
      "cell_type": "code",
      "source": [
        "label =data[['fuelAmount']]"
      ],
      "metadata": {
        "id": "0f7uyQIW1wJZ"
      },
      "execution_count": null,
      "outputs": []
    },
    {
      "cell_type": "code",
      "source": [
        "label"
      ],
      "metadata": {
        "id": "JX8V_eC41wMT"
      },
      "execution_count": null,
      "outputs": []
    },
    {
      "cell_type": "code",
      "source": [
        "data.describe()"
      ],
      "metadata": {
        "id": "FDU13SPk5OQk"
      },
      "execution_count": null,
      "outputs": []
    },
    {
      "cell_type": "markdown",
      "source": [
        "# Step 6 Examine X and Y\n"
      ],
      "metadata": {
        "id": "ZiE6517L5prn"
      }
    },
    {
      "cell_type": "code",
      "source": [
        "print(feature_list)\n",
        "print(\"Type of X Matrix\",type(feature_list))\n",
        "print(label)\n",
        "print(\"Type of Y Vector \",type(label))"
      ],
      "metadata": {
        "colab": {
          "base_uri": "https://localhost:8080/"
        },
        "id": "00d60rzr5Oky",
        "outputId": "0f6ffaa2-7293-4f6b-a5d1-e7049edf8345"
      },
      "execution_count": null,
      "outputs": [
        {
          "output_type": "stream",
          "name": "stdout",
          "text": [
            "    drivenKm\n",
            "0     390.00\n",
            "1     403.00\n",
            "2     396.50\n",
            "3     383.50\n",
            "4     321.10\n",
            "5     391.30\n",
            "6     386.10\n",
            "7     371.80\n",
            "8     404.30\n",
            "9     392.20\n",
            "10    386.43\n",
            "11    395.20\n",
            "12    381.00\n",
            "13    372.00\n",
            "14    397.00\n",
            "15    407.00\n",
            "16    372.40\n",
            "17    375.60\n",
            "18    399.00\n",
            "Type of X Matrix <class 'pandas.core.frame.DataFrame'>\n",
            "    fuelAmount\n",
            "0       3600.0\n",
            "1       3705.0\n",
            "2       3471.0\n",
            "3       3250.5\n",
            "4       3263.7\n",
            "5       3445.2\n",
            "6       3679.0\n",
            "7       3744.5\n",
            "8       3809.0\n",
            "9       3905.0\n",
            "10      3874.0\n",
            "11      3910.0\n",
            "12      4020.7\n",
            "13      3622.0\n",
            "14      3450.5\n",
            "15      4179.0\n",
            "16      3454.2\n",
            "17      3883.8\n",
            "18      4235.9\n",
            "Type of Y Vector  <class 'pandas.core.frame.DataFrame'>\n"
          ]
        }
      ]
    },
    {
      "cell_type": "markdown",
      "source": [
        "# Step 7 Split dataset"
      ],
      "metadata": {
        "id": "X1zjbcEB52mE"
      }
    },
    {
      "cell_type": "code",
      "source": [
        "from sklearn.model_selection import train_test_split"
      ],
      "metadata": {
        "id": "dcVbhi2L5Ond"
      },
      "execution_count": null,
      "outputs": []
    },
    {
      "cell_type": "code",
      "source": [
        "x_train, x_test, y_train, y_test = train_test_split(feature_list, label,\n",
        "                                                    test_size=0.20, random_state=42)"
      ],
      "metadata": {
        "id": "qOHBICJa5OqQ"
      },
      "execution_count": null,
      "outputs": []
    },
    {
      "cell_type": "code",
      "source": [
        "print(x_train, x_test, y_train, y_test)"
      ],
      "metadata": {
        "colab": {
          "base_uri": "https://localhost:8080/"
        },
        "id": "V9Qb_PLy5OtN",
        "outputId": "9c825f63-66c2-4b58-faab-6bf4679a3718"
      },
      "execution_count": null,
      "outputs": [
        {
          "output_type": "stream",
          "name": "stdout",
          "text": [
            "    drivenKm\n",
            "8     404.30\n",
            "16    372.40\n",
            "3     383.50\n",
            "13    372.00\n",
            "15    407.00\n",
            "17    375.60\n",
            "2     396.50\n",
            "9     392.20\n",
            "18    399.00\n",
            "4     321.10\n",
            "12    381.00\n",
            "7     371.80\n",
            "10    386.43\n",
            "14    397.00\n",
            "6     386.10     drivenKm\n",
            "0      390.0\n",
            "5      391.3\n",
            "11     395.2\n",
            "1      403.0     fuelAmount\n",
            "8       3809.0\n",
            "16      3454.2\n",
            "3       3250.5\n",
            "13      3622.0\n",
            "15      4179.0\n",
            "17      3883.8\n",
            "2       3471.0\n",
            "9       3905.0\n",
            "18      4235.9\n",
            "4       3263.7\n",
            "12      4020.7\n",
            "7       3744.5\n",
            "10      3874.0\n",
            "14      3450.5\n",
            "6       3679.0     fuelAmount\n",
            "0       3600.0\n",
            "5       3445.2\n",
            "11      3910.0\n",
            "1       3705.0\n"
          ]
        }
      ]
    },
    {
      "cell_type": "code",
      "source": [
        "print(type(x_train))"
      ],
      "metadata": {
        "colab": {
          "base_uri": "https://localhost:8080/"
        },
        "id": "exWTEWUA5Ovu",
        "outputId": "9b4cf489-4136-4acb-ab79-7bec100f1441"
      },
      "execution_count": null,
      "outputs": [
        {
          "output_type": "stream",
          "name": "stdout",
          "text": [
            "<class 'pandas.core.frame.DataFrame'>\n"
          ]
        }
      ]
    },
    {
      "cell_type": "markdown",
      "source": [
        "# PART 1 :LR BASELINE MODEL"
      ],
      "metadata": {
        "id": "OzPUAaXH-7pd"
      }
    },
    {
      "cell_type": "markdown",
      "source": [
        "# STEP 8 BUILD  MODEL"
      ],
      "metadata": {
        "id": "t8k76CFzLtpJ"
      }
    },
    {
      "cell_type": "code",
      "source": [
        "from sklearn.linear_model import LinearRegression"
      ],
      "metadata": {
        "id": "o-KCVstE5Oyl"
      },
      "execution_count": null,
      "outputs": []
    },
    {
      "cell_type": "code",
      "source": [
        "lin_reg = LinearRegression()"
      ],
      "metadata": {
        "id": "kNQPp9cy5O1W"
      },
      "execution_count": null,
      "outputs": []
    },
    {
      "cell_type": "code",
      "source": [
        "lin_reg.fit(x_train,y_train)"
      ],
      "metadata": {
        "colab": {
          "base_uri": "https://localhost:8080/"
        },
        "id": "FF8iAJsn5_N8",
        "outputId": "0a30757a-dc59-4d25-c232-8f70478ad687"
      },
      "execution_count": null,
      "outputs": [
        {
          "output_type": "execute_result",
          "data": {
            "text/plain": [
              "LinearRegression()"
            ]
          },
          "metadata": {},
          "execution_count": 24
        }
      ]
    },
    {
      "cell_type": "markdown",
      "source": [
        "# STEP 9 PREDICT PRICE FOR 800 KM"
      ],
      "metadata": {
        "id": "RgYNNHj1L2dA"
      }
    },
    {
      "cell_type": "code",
      "source": [
        "lin_reg.predict([[800]])"
      ],
      "metadata": {
        "colab": {
          "base_uri": "https://localhost:8080/"
        },
        "id": "_bKRPlFR5_K-",
        "outputId": "25053eea-4e41-4a89-e0ce-27f21922568f"
      },
      "execution_count": null,
      "outputs": [
        {
          "output_type": "stream",
          "name": "stderr",
          "text": [
            "/usr/local/lib/python3.8/dist-packages/sklearn/base.py:450: UserWarning: X does not have valid feature names, but LinearRegression was fitted with feature names\n",
            "  warnings.warn(\n"
          ]
        },
        {
          "output_type": "execute_result",
          "data": {
            "text/plain": [
              "array([[6905.64571567]])"
            ]
          },
          "metadata": {},
          "execution_count": 25
        }
      ]
    },
    {
      "cell_type": "markdown",
      "source": [
        "# STEP 10 PREDICT ON ENTIRE DATASET"
      ],
      "metadata": {
        "id": "2wB7o52WMO7I"
      }
    },
    {
      "cell_type": "code",
      "source": [
        "from sklearn.metrics import mean_squared_error\n",
        "yPred = lin_reg.predict(x_test)"
      ],
      "metadata": {
        "id": "ee7aikBL5_Gr"
      },
      "execution_count": null,
      "outputs": []
    },
    {
      "cell_type": "code",
      "source": [
        "yPred"
      ],
      "metadata": {
        "colab": {
          "base_uri": "https://localhost:8080/"
        },
        "id": "Lu1Uv6FF9T-0",
        "outputId": "d05dad52-0fd2-4e44-c353-9eac0598f548"
      },
      "execution_count": null,
      "outputs": [
        {
          "output_type": "execute_result",
          "data": {
            "text/plain": [
              "array([[3775.81615646],\n",
              "       [3785.74000628],\n",
              "       [3815.51155575],\n",
              "       [3875.05465468]])"
            ]
          },
          "metadata": {},
          "execution_count": 27
        }
      ]
    },
    {
      "cell_type": "markdown",
      "source": [
        "# STEP 11 MSE"
      ],
      "metadata": {
        "id": "B8QS0BB9MTz3"
      }
    },
    {
      "cell_type": "code",
      "source": [
        "mse = mean_squared_error(y_test,yPred)"
      ],
      "metadata": {
        "id": "dilZaZIA5_Ds"
      },
      "execution_count": null,
      "outputs": []
    },
    {
      "cell_type": "code",
      "source": [
        "mse"
      ],
      "metadata": {
        "colab": {
          "base_uri": "https://localhost:8080/"
        },
        "id": "gMY38GH95_BM",
        "outputId": "1928630b-2789-4dda-e949-e26766c599ea"
      },
      "execution_count": null,
      "outputs": [
        {
          "output_type": "execute_result",
          "data": {
            "text/plain": [
              "46181.36710639155"
            ]
          },
          "metadata": {},
          "execution_count": 29
        }
      ]
    },
    {
      "cell_type": "code",
      "source": [
        "lin_reg.coef_"
      ],
      "metadata": {
        "colab": {
          "base_uri": "https://localhost:8080/"
        },
        "id": "l0de34GW5--D",
        "outputId": "69bd1c4b-bece-40d2-fb41-6e934c96230f"
      },
      "execution_count": null,
      "outputs": [
        {
          "output_type": "execute_result",
          "data": {
            "text/plain": [
              "array([[7.63373063]])"
            ]
          },
          "metadata": {},
          "execution_count": 30
        }
      ]
    },
    {
      "cell_type": "code",
      "source": [
        "lin_reg.intercept_"
      ],
      "metadata": {
        "colab": {
          "base_uri": "https://localhost:8080/"
        },
        "id": "ppVRM3OJ5-7Q",
        "outputId": "8f21a5eb-8d71-4140-e4d6-1defa68e7c7b"
      },
      "execution_count": null,
      "outputs": [
        {
          "output_type": "execute_result",
          "data": {
            "text/plain": [
              "array([798.6612099])"
            ]
          },
          "metadata": {},
          "execution_count": 31
        }
      ]
    },
    {
      "cell_type": "code",
      "source": [
        "y_pred_data = lin_reg.predict(x_train)\n",
        "y_pred_data"
      ],
      "metadata": {
        "colab": {
          "base_uri": "https://localhost:8080/"
        },
        "id": "1s2peyjLEA-z",
        "outputId": "ade44e29-6110-4873-e41a-fd1a1a7e0649"
      },
      "execution_count": null,
      "outputs": [
        {
          "output_type": "execute_result",
          "data": {
            "text/plain": [
              "array([[3884.9785045 ],\n",
              "       [3641.46249733],\n",
              "       [3726.19690735],\n",
              "       [3638.40900508],\n",
              "       [3905.58957721],\n",
              "       [3665.89043536],\n",
              "       [3825.43540557],\n",
              "       [3792.61036385],\n",
              "       [3844.51973215],\n",
              "       [3249.8521159 ],\n",
              "       [3707.11258077],\n",
              "       [3636.88225895],\n",
              "       [3748.5637381 ],\n",
              "       [3829.25227089],\n",
              "       [3746.04460699]])"
            ]
          },
          "metadata": {},
          "execution_count": 32
        }
      ]
    },
    {
      "cell_type": "code",
      "source": [
        "lin_reg.score(x_test,y_test)"
      ],
      "metadata": {
        "colab": {
          "base_uri": "https://localhost:8080/"
        },
        "id": "6kaxjnMfEA7r",
        "outputId": "da552660-435a-4405-f6c1-75796912279d"
      },
      "execution_count": null,
      "outputs": [
        {
          "output_type": "execute_result",
          "data": {
            "text/plain": [
              "-0.6180990161577022"
            ]
          },
          "metadata": {},
          "execution_count": 33
        }
      ]
    },
    {
      "cell_type": "markdown",
      "source": [
        "# PART 2 - LR WITH SCALING USING STANDARD SCALER (STANDARDIZATION)"
      ],
      "metadata": {
        "id": "6kwj6SJe_DMq"
      }
    },
    {
      "cell_type": "markdown",
      "source": [
        "# STEP  12 NORMALIZE USING STANDARD SCALER\n"
      ],
      "metadata": {
        "id": "Kk3rQp8xMcAa"
      }
    },
    {
      "cell_type": "code",
      "source": [
        "from sklearn.pipeline import Pipeline\n",
        "from sklearn.preprocessing import StandardScaler\n",
        "\n",
        "scaler = StandardScaler()"
      ],
      "metadata": {
        "id": "gnyiP2j-5O3-"
      },
      "execution_count": null,
      "outputs": []
    },
    {
      "cell_type": "code",
      "source": [
        "norm_x_train = scaler.fit_transform(x_train)\n",
        "norm_y_train = scaler.fit_transform(y_train)\n",
        "norm_x_test = scaler.transform(x_test)\n",
        "norm_y_test = scaler.transform(y_test)"
      ],
      "metadata": {
        "colab": {
          "base_uri": "https://localhost:8080/"
        },
        "id": "Uk2RcQ8d-61A",
        "outputId": "0cc8a2b4-a8f7-45aa-aba7-8b69e7c793a0"
      },
      "execution_count": null,
      "outputs": [
        {
          "output_type": "stream",
          "name": "stderr",
          "text": [
            "/usr/local/lib/python3.8/dist-packages/sklearn/base.py:493: FutureWarning: The feature names should match those that were passed during fit. Starting version 1.2, an error will be raised.\n",
            "Feature names unseen at fit time:\n",
            "- drivenKm\n",
            "Feature names seen at fit time, yet now missing:\n",
            "- fuelAmount\n",
            "\n",
            "  warnings.warn(message, FutureWarning)\n"
          ]
        }
      ]
    },
    {
      "cell_type": "markdown",
      "source": [
        "# STEP 13 BUILD LR MODEL"
      ],
      "metadata": {
        "id": "stDkoHIqMief"
      }
    },
    {
      "cell_type": "code",
      "source": [
        "norm_lreg = LinearRegression()"
      ],
      "metadata": {
        "id": "oRh0ycUDKCSc"
      },
      "execution_count": null,
      "outputs": []
    },
    {
      "cell_type": "code",
      "source": [
        "norm_lreg.fit(norm_x_train,norm_y_train)"
      ],
      "metadata": {
        "colab": {
          "base_uri": "https://localhost:8080/"
        },
        "id": "RRAbo7ji-64C",
        "outputId": "816832b9-1875-450a-ebaf-69fae3228f48"
      },
      "execution_count": null,
      "outputs": [
        {
          "output_type": "execute_result",
          "data": {
            "text/plain": [
              "LinearRegression()"
            ]
          },
          "metadata": {},
          "execution_count": 37
        }
      ]
    },
    {
      "cell_type": "code",
      "source": [
        "norm_yPred = norm_lreg.predict(norm_x_test)"
      ],
      "metadata": {
        "id": "_VAJYUZQ-67B"
      },
      "execution_count": null,
      "outputs": []
    },
    {
      "cell_type": "markdown",
      "source": [
        "# STEP 14 MSE"
      ],
      "metadata": {
        "id": "qJUvbkqEMsM2"
      }
    },
    {
      "cell_type": "code",
      "source": [
        "norm_mse = mean_squared_error(norm_y_test,norm_yPred)"
      ],
      "metadata": {
        "id": "0_pkSpCF-6-Z"
      },
      "execution_count": null,
      "outputs": []
    },
    {
      "cell_type": "code",
      "source": [
        "norm_mse"
      ],
      "metadata": {
        "colab": {
          "base_uri": "https://localhost:8080/"
        },
        "id": "sKyohDu_5O7u",
        "outputId": "4b419927-9b44-48da-81b6-4edfd74ac7aa"
      },
      "execution_count": null,
      "outputs": [
        {
          "output_type": "execute_result",
          "data": {
            "text/plain": [
              "32.25557286448923"
            ]
          },
          "metadata": {},
          "execution_count": 40
        }
      ]
    },
    {
      "cell_type": "markdown",
      "source": [
        "# STEP 15 SCATTER PLOT"
      ],
      "metadata": {
        "id": "IwCT9KNAMyQ_"
      }
    },
    {
      "cell_type": "code",
      "source": [
        "plt.plot(norm_y_test,norm_yPred,\"go\")"
      ],
      "metadata": {
        "colab": {
          "base_uri": "https://localhost:8080/",
          "height": 282
        },
        "id": "IRx8ppCLGnKB",
        "outputId": "4e8b7b94-f419-45c1-9d37-d9d8c9f0942b"
      },
      "execution_count": null,
      "outputs": [
        {
          "output_type": "execute_result",
          "data": {
            "text/plain": [
              "[<matplotlib.lines.Line2D at 0x7f3d23e89700>]"
            ]
          },
          "metadata": {},
          "execution_count": 41
        },
        {
          "output_type": "display_data",
          "data": {
            "text/plain": [
              "<Figure size 432x288 with 1 Axes>"
            ],
            "image/png": "[encoded data removed]"
          },
          "metadata": {
            "needs_background": "light"
          }
        }
      ]
    },
    {
      "cell_type": "markdown",
      "source": [
        "# PART 3 - LR WITH SCALING USING MinMax SCALER (NORMALIZATION)"
      ],
      "metadata": {
        "id": "tH4McXajHJRO"
      }
    },
    {
      "cell_type": "markdown",
      "source": [
        "# STEP 16 NORMALIZING USING MINMAX SCALER"
      ],
      "metadata": {
        "id": "27vjFSlyM3Ev"
      }
    },
    {
      "cell_type": "code",
      "source": [
        " from sklearn.preprocessing import MinMaxScaler"
      ],
      "metadata": {
        "id": "pPmL_YcQGnNa"
      },
      "execution_count": null,
      "outputs": []
    },
    {
      "cell_type": "code",
      "source": [
        "minmax = MinMaxScaler()"
      ],
      "metadata": {
        "id": "Ww1V8YiBGnQH"
      },
      "execution_count": null,
      "outputs": []
    },
    {
      "cell_type": "code",
      "source": [
        "mm_norm_x_train = minmax.fit_transform(x_train)\n",
        "mm_norm_y_train = minmax.fit_transform(y_train)\n",
        "mm_norm_x_test = minmax.transform(x_test)\n",
        "mm_norm_y_test = minmax.transform(y_test)"
      ],
      "metadata": {
        "colab": {
          "base_uri": "https://localhost:8080/"
        },
        "id": "ddzqKBkYGnS1",
        "outputId": "8ae5ae7e-0c61-43c3-f0a9-bef4e119600d"
      },
      "execution_count": null,
      "outputs": [
        {
          "output_type": "stream",
          "name": "stderr",
          "text": [
            "/usr/local/lib/python3.8/dist-packages/sklearn/base.py:493: FutureWarning: The feature names should match those that were passed during fit. Starting version 1.2, an error will be raised.\n",
            "Feature names unseen at fit time:\n",
            "- drivenKm\n",
            "Feature names seen at fit time, yet now missing:\n",
            "- fuelAmount\n",
            "\n",
            "  warnings.warn(message, FutureWarning)\n"
          ]
        }
      ]
    },
    {
      "cell_type": "code",
      "execution_count": null,
      "metadata": {
        "id": "12981351"
      },
      "outputs": [],
      "source": [
        "mm_norm_lreg = LinearRegression()"
      ]
    },
    {
      "cell_type": "code",
      "execution_count": null,
      "metadata": {
        "id": "a16565c6",
        "outputId": "1b8f09c7-9a49-4dc1-cb06-f6e87ef18096",
        "colab": {
          "base_uri": "https://localhost:8080/"
        }
      },
      "outputs": [
        {
          "output_type": "execute_result",
          "data": {
            "text/plain": [
              "LinearRegression()"
            ]
          },
          "metadata": {},
          "execution_count": 46
        }
      ],
      "source": [
        "mm_norm_lreg.fit(mm_norm_x_train,mm_norm_y_train)"
      ]
    },
    {
      "cell_type": "code",
      "execution_count": null,
      "metadata": {
        "id": "1cc22bde"
      },
      "outputs": [],
      "source": [
        "mm_norm_y_pred = mm_norm_lreg.predict(mm_norm_x_test)"
      ]
    },
    {
      "cell_type": "code",
      "execution_count": null,
      "metadata": {
        "id": "b54d6806",
        "outputId": "54da9e82-9e5e-4720-84c5-ccda6b518825",
        "colab": {
          "base_uri": "https://localhost:8080/"
        }
      },
      "outputs": [
        {
          "output_type": "execute_result",
          "data": {
            "text/plain": [
              "array([[-1.93238929],\n",
              "       [-1.93151139],\n",
              "       [-1.92887767],\n",
              "       [-1.92361023]])"
            ]
          },
          "metadata": {},
          "execution_count": 48
        }
      ],
      "source": [
        "mm_norm_y_pred"
      ]
    },
    {
      "cell_type": "code",
      "execution_count": null,
      "metadata": {
        "id": "c1cf44d7",
        "outputId": "9f1995a8-2e35-4771-fc8d-815beeb0e8d3",
        "colab": {
          "base_uri": "https://localhost:8080/"
        }
      },
      "outputs": [
        {
          "output_type": "execute_result",
          "data": {
            "text/plain": [
              "array([[0.3546783 ],\n",
              "       [0.19758474],\n",
              "       [0.66927136],\n",
              "       [0.46123402]])"
            ]
          },
          "metadata": {},
          "execution_count": 49
        }
      ],
      "source": [
        "mm_norm_y_test"
      ]
    },
    {
      "cell_type": "code",
      "execution_count": null,
      "metadata": {
        "id": "c91e7446"
      },
      "outputs": [],
      "source": [
        "minmax_norm_mse = mean_squared_error(mm_norm_y_test,\n",
        "                                     mm_norm_y_pred)"
      ]
    },
    {
      "cell_type": "code",
      "execution_count": null,
      "metadata": {
        "id": "62a76fa7",
        "outputId": "dd2793fe-1ffc-4236-8519-2c8d85cca8f8",
        "colab": {
          "base_uri": "https://localhost:8080/"
        }
      },
      "outputs": [
        {
          "output_type": "execute_result",
          "data": {
            "text/plain": [
              "5.550397233153768"
            ]
          },
          "metadata": {},
          "execution_count": 51
        }
      ],
      "source": [
        "minmax_norm_mse"
      ]
    },
    {
      "cell_type": "markdown",
      "metadata": {
        "id": "8e0dceec"
      },
      "source": [
        "\n",
        "#### prepare the model with input scaling\n",
        "pipeline = Pipeline(steps=[('normalize', MinMaxScaler()), ('model', LinearRegression())])\n",
        "\n",
        "#### fit pipeline\n",
        "pipeline.fit(train_x, train_y)\n",
        "\n",
        "#### make predictions\n",
        "yhat = pipeline.predict(test_x)"
      ]
    },
    {
      "cell_type": "code",
      "execution_count": null,
      "metadata": {
        "id": "a3a8e316"
      },
      "outputs": [],
      "source": [
        "y_test = y_test.to_numpy()"
      ]
    },
    {
      "cell_type": "code",
      "execution_count": null,
      "metadata": {
        "id": "d5326b07",
        "outputId": "3b8506df-2d69-4d38-843e-78a1cddca8c1",
        "colab": {
          "base_uri": "https://localhost:8080/",
          "height": 301
        }
      },
      "outputs": [
        {
          "output_type": "execute_result",
          "data": {
            "text/plain": [
              "[<matplotlib.lines.Line2D at 0x7f3d23df3be0>]"
            ]
          },
          "metadata": {},
          "execution_count": 53
        },
        {
          "output_type": "display_data",
          "data": {
            "text/plain": [
              "<Figure size 432x288 with 1 Axes>"
            ],
            "image/png": "[encoded data removed]"
          },
          "metadata": {
            "needs_background": "light"
          }
        }
      ],
      "source": [
        "plt.xlabel(\"y_test\")\n",
        "plt.xlabel(\"y_pred\")\n",
        "plt.plot(y_test,yPred,\"ro\")\n"
      ]
    },
    {
      "cell_type": "code",
      "execution_count": null,
      "metadata": {
        "scrolled": true,
        "id": "142b3640",
        "outputId": "5bc4b0ba-6035-4943-ac66-bdd859af375a",
        "colab": {
          "base_uri": "https://localhost:8080/",
          "height": 282
        }
      },
      "outputs": [
        {
          "output_type": "execute_result",
          "data": {
            "text/plain": [
              "[<matplotlib.lines.Line2D at 0x7f3d23dcf340>]"
            ]
          },
          "metadata": {},
          "execution_count": 54
        },
        {
          "output_type": "display_data",
          "data": {
            "text/plain": [
              "<Figure size 432x288 with 1 Axes>"
            ],
            "image/png": "[encoded data removed]"
          },
          "metadata": {
            "needs_background": "light"
          }
        }
      ],
      "source": [
        "plt.plot(norm_y_test,norm_yPred,\"go\")"
      ]
    },
    {
      "cell_type": "markdown",
      "metadata": {
        "id": "87d8275c"
      },
      "source": [
        "# STEP 17 KNN REGRESSOR"
      ]
    },
    {
      "cell_type": "code",
      "execution_count": null,
      "metadata": {
        "id": "928f6d77"
      },
      "outputs": [],
      "source": [
        "from sklearn.neighbors import KNeighborsRegressor"
      ]
    },
    {
      "cell_type": "code",
      "execution_count": null,
      "metadata": {
        "id": "a2e86f8b",
        "outputId": "2fdd8d98-d1dc-4ddd-acfe-f6e4b204dfc6",
        "colab": {
          "base_uri": "https://localhost:8080/"
        }
      },
      "outputs": [
        {
          "output_type": "execute_result",
          "data": {
            "text/plain": [
              "KNeighborsRegressor()"
            ]
          },
          "metadata": {},
          "execution_count": 56
        }
      ],
      "source": [
        "# creating Instance for the model\n",
        "\n",
        "knn = KNeighborsRegressor(n_neighbors=5)    \n",
        "\n",
        "# Training / Fitting Data\n",
        "\n",
        "knn.fit(x_train,y_train)\n"
      ]
    },
    {
      "cell_type": "code",
      "execution_count": null,
      "metadata": {
        "id": "d36f5c59",
        "outputId": "bd886d50-d8a6-4382-eb43-8d60a46f642a",
        "colab": {
          "base_uri": "https://localhost:8080/"
        }
      },
      "outputs": [
        {
          "output_type": "stream",
          "name": "stdout",
          "text": [
            "[[3829.08]]\n"
          ]
        },
        {
          "output_type": "stream",
          "name": "stderr",
          "text": [
            "/usr/local/lib/python3.8/dist-packages/sklearn/base.py:450: UserWarning: X does not have valid feature names, but KNeighborsRegressor was fitted with feature names\n",
            "  warnings.warn(\n"
          ]
        }
      ],
      "source": [
        "print(knn.predict([[800]]))"
      ]
    },
    {
      "cell_type": "code",
      "execution_count": null,
      "metadata": {
        "id": "22843918"
      },
      "outputs": [],
      "source": [
        "knn_y_pred = knn.predict(x_test)"
      ]
    },
    {
      "cell_type": "code",
      "execution_count": null,
      "metadata": {
        "id": "e2a6f3de"
      },
      "outputs": [],
      "source": [
        "knn_mse = mean_squared_error(knn_y_pred,y_test)"
      ]
    },
    {
      "cell_type": "code",
      "execution_count": null,
      "metadata": {
        "id": "a80885a3",
        "outputId": "3e9317cc-f1ce-4d78-d253-a4a185a411f0",
        "colab": {
          "base_uri": "https://localhost:8080/"
        }
      },
      "outputs": [
        {
          "output_type": "execute_result",
          "data": {
            "text/plain": [
              "21241.836200000045"
            ]
          },
          "metadata": {},
          "execution_count": 60
        }
      ],
      "source": [
        "knn_mse"
      ]
    },
    {
      "cell_type": "markdown",
      "source": [
        "# STEP 18  SGD REGRESSOR"
      ],
      "metadata": {
        "id": "v_k1dNSmIky-"
      }
    },
    {
      "cell_type": "code",
      "source": [
        "from sklearn import linear_model"
      ],
      "metadata": {
        "id": "J38CwAN_JfC2"
      },
      "execution_count": null,
      "outputs": []
    },
    {
      "cell_type": "code",
      "source": [
        "from sklearn.linear_model import SGDRegressor"
      ],
      "metadata": {
        "id": "YSWEFEdtIzwk"
      },
      "execution_count": null,
      "outputs": []
    },
    {
      "cell_type": "code",
      "execution_count": null,
      "metadata": {
        "id": "0a154a15"
      },
      "outputs": [],
      "source": [
        "from sklearn.pipeline import make_pipeline"
      ]
    },
    {
      "cell_type": "code",
      "execution_count": null,
      "metadata": {
        "id": "1978393f"
      },
      "outputs": [],
      "source": [
        "max_iter = np.ceil(10**6/x_train.shape[0])"
      ]
    },
    {
      "cell_type": "code",
      "execution_count": null,
      "metadata": {
        "id": "55ba4bc5"
      },
      "outputs": [],
      "source": [
        "sgd = make_pipeline(StandardScaler(),linear_model.\n",
        "                    SGDRegressor(max_iter = max_iter,tol=1e-3))"
      ]
    },
    {
      "cell_type": "code",
      "execution_count": null,
      "metadata": {
        "id": "c2d4f537",
        "outputId": "2221fcc8-3ed1-4876-d8b9-8a68d2616de2",
        "colab": {
          "base_uri": "https://localhost:8080/"
        }
      },
      "outputs": [
        {
          "output_type": "stream",
          "name": "stdout",
          "text": [
            "<class 'pandas.core.frame.DataFrame'>\n"
          ]
        }
      ],
      "source": [
        "print(type(x_train))"
      ]
    },
    {
      "cell_type": "code",
      "execution_count": null,
      "metadata": {
        "id": "772d740e"
      },
      "outputs": [],
      "source": [
        "x_train = x_train.to_numpy()\n",
        "y_train = y_train.to_numpy()\n"
      ]
    },
    {
      "cell_type": "code",
      "execution_count": null,
      "metadata": {
        "id": "2c33a936",
        "outputId": "f0534c7c-bc16-4ad7-f51a-2f28f874533e",
        "colab": {
          "base_uri": "https://localhost:8080/"
        }
      },
      "outputs": [
        {
          "output_type": "stream",
          "name": "stderr",
          "text": [
            "/usr/local/lib/python3.8/dist-packages/sklearn/utils/validation.py:993: DataConversionWarning: A column-vector y was passed when a 1d array was expected. Please change the shape of y to (n_samples, ), for example using ravel().\n",
            "  y = column_or_1d(y, warn=True)\n"
          ]
        },
        {
          "output_type": "execute_result",
          "data": {
            "text/plain": [
              "Pipeline(steps=[('standardscaler', StandardScaler()),\n",
              "                ('sgdregressor', SGDRegressor(max_iter=66667.0))])"
            ]
          },
          "metadata": {},
          "execution_count": 68
        }
      ],
      "source": [
        "sgd.fit(x_train,y_train)"
      ]
    },
    {
      "cell_type": "code",
      "execution_count": null,
      "metadata": {
        "id": "b50844ef",
        "colab": {
          "base_uri": "https://localhost:8080/"
        },
        "outputId": "99529543-5f23-4eb9-b394-44c20ffaf76e"
      },
      "outputs": [
        {
          "output_type": "stream",
          "name": "stderr",
          "text": [
            "/usr/local/lib/python3.8/dist-packages/sklearn/base.py:443: UserWarning: X has feature names, but StandardScaler was fitted without feature names\n",
            "  warnings.warn(\n"
          ]
        }
      ],
      "source": [
        "sgd_y_pred = sgd.predict(x_test)"
      ]
    },
    {
      "cell_type": "code",
      "execution_count": null,
      "metadata": {
        "id": "aca58334",
        "outputId": "1be20ff4-9e56-438b-917d-15548ef46da3",
        "colab": {
          "base_uri": "https://localhost:8080/"
        }
      },
      "outputs": [
        {
          "output_type": "execute_result",
          "data": {
            "text/plain": [
              "array([3775.49866169, 3785.4202774 , 3815.18512453, 3874.71481879])"
            ]
          },
          "metadata": {},
          "execution_count": 70
        }
      ],
      "source": [
        "sgd_y_pred"
      ]
    },
    {
      "cell_type": "code",
      "execution_count": null,
      "metadata": {
        "id": "ce42941f"
      },
      "outputs": [],
      "source": [
        "sgd_mse = mean_squared_error(y_test,sgd_y_pred)"
      ]
    },
    {
      "cell_type": "code",
      "execution_count": null,
      "metadata": {
        "id": "7f73e7e2",
        "outputId": "bb3d4e3f-af5c-49af-d2fb-3460230ca5d7",
        "colab": {
          "base_uri": "https://localhost:8080/"
        }
      },
      "outputs": [
        {
          "output_type": "execute_result",
          "data": {
            "text/plain": [
              "46085.64943360797"
            ]
          },
          "metadata": {},
          "execution_count": 72
        }
      ],
      "source": [
        "sgd_mse"
      ]
    },
    {
      "cell_type": "markdown",
      "source": [
        "# STEP 19 SELECTING THE BEST MODEL"
      ],
      "metadata": {
        "id": "QbqObVLFNKnl"
      }
    },
    {
      "cell_type": "code",
      "execution_count": null,
      "metadata": {
        "id": "7d3c8179"
      },
      "outputs": [],
      "source": [
        "from tabulate import tabulate"
      ]
    },
    {
      "cell_type": "code",
      "execution_count": null,
      "metadata": {
        "id": "c1070e1c"
      },
      "outputs": [],
      "source": [
        "data = [[\"MODELS\",\"MSE VALUE\"],\n",
        "       [\"LINEAR REGRESSION\",round(mse)],\n",
        "       [\"STANDARD SCALER LR \",round(norm_mse)],\n",
        "       [\" MINMAX  LR\",round(minmax_norm_mse) ],\n",
        "       [\"KNN\",round(knn_mse)],\n",
        "       [\"SGD\",round(sgd_mse)]]"
      ]
    },
    {
      "cell_type": "code",
      "execution_count": null,
      "metadata": {
        "id": "99c2c968",
        "outputId": "edba8ca5-1f1c-4a09-c2b9-b709066433b7",
        "colab": {
          "base_uri": "https://localhost:8080/"
        }
      },
      "outputs": [
        {
          "output_type": "stream",
          "name": "stdout",
          "text": [
            "------------------  ---------\n",
            "MODELS              MSE VALUE\n",
            "LINEAR REGRESSION   46181\n",
            "STANDARD SCALER LR  32\n",
            "MINMAX  LR          6\n",
            "KNN                 21242\n",
            "SGD                 46086\n",
            "------------------  ---------\n"
          ]
        }
      ],
      "source": [
        "print(tabulate(data))"
      ]
    },
    {
      "cell_type": "markdown",
      "source": [
        "LINEAR REGRESSION MODEL AFTER NORMALIZING USING MINMAX SCALAR WOULD BE THE BEST MODEL AND HAS LOWEST MSE VALUE"
      ],
      "metadata": {
        "id": "BpI2nAWpKxgz"
      }
    },
    {
      "cell_type": "code",
      "execution_count": null,
      "metadata": {
        "id": "2c21bf47"
      },
      "outputs": [],
      "source": []
    },
    {
      "cell_type": "code",
      "execution_count": null,
      "metadata": {
        "id": "efa4e345"
      },
      "outputs": [],
      "source": []
    },
    {
      "cell_type": "code",
      "execution_count": null,
      "metadata": {
        "id": "69f7137b"
      },
      "outputs": [],
      "source": []
    }
  ]
}