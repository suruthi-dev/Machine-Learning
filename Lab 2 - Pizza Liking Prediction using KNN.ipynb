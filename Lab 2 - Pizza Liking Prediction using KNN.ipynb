{
 "cells": [
  {
   "cell_type": "markdown",
   "id": "9629a51f",
   "metadata": {},
   "source": [
    "# SURUTHI S\n",
    "# 225229141\n",
    "# Pizza Liking Prediction using KNN"
   ]
  },
  {
   "cell_type": "code",
   "execution_count": null,
   "id": "aa38a946",
   "metadata": {},
   "outputs": [],
   "source": []
  },
  {
   "cell_type": "markdown",
   "id": "325a2d93",
   "metadata": {},
   "source": [
    "# Step 2 : Importing Dataset"
   ]
  },
  {
   "cell_type": "code",
   "execution_count": 2,
   "id": "860d3ef1",
   "metadata": {},
   "outputs": [],
   "source": [
    "import pandas as pd\n",
    "import matplotlib.pyplot as plt\n",
    "import seaborn as sns\n",
    "from sklearn.neighbors import KNeighborsClassifier\n",
    "from sklearn.metrics import accuracy_score"
   ]
  },
  {
   "cell_type": "code",
   "execution_count": 23,
   "id": "899dc2e7",
   "metadata": {},
   "outputs": [],
   "source": [
    "import warnings\n",
    "warnings.filterwarnings(\"ignore\")"
   ]
  },
  {
   "cell_type": "code",
   "execution_count": 3,
   "id": "1a7d0000",
   "metadata": {},
   "outputs": [
    {
     "data": {
      "text/html": [
       "<div>\n",
       "<style scoped>\n",
       "    .dataframe tbody tr th:only-of-type {\n",
       "        vertical-align: middle;\n",
       "    }\n",
       "\n",
       "    .dataframe tbody tr th {\n",
       "        vertical-align: top;\n",
       "    }\n",
       "\n",
       "    .dataframe thead th {\n",
       "        text-align: right;\n",
       "    }\n",
       "</style>\n",
       "<table border=\"1\" class=\"dataframe\">\n",
       "  <thead>\n",
       "    <tr style=\"text-align: right;\">\n",
       "      <th></th>\n",
       "      <th>age</th>\n",
       "      <th>weight</th>\n",
       "      <th>likepizza</th>\n",
       "    </tr>\n",
       "  </thead>\n",
       "  <tbody>\n",
       "    <tr>\n",
       "      <th>0</th>\n",
       "      <td>50</td>\n",
       "      <td>65</td>\n",
       "      <td>0</td>\n",
       "    </tr>\n",
       "    <tr>\n",
       "      <th>1</th>\n",
       "      <td>20</td>\n",
       "      <td>55</td>\n",
       "      <td>1</td>\n",
       "    </tr>\n",
       "    <tr>\n",
       "      <th>2</th>\n",
       "      <td>15</td>\n",
       "      <td>40</td>\n",
       "      <td>1</td>\n",
       "    </tr>\n",
       "    <tr>\n",
       "      <th>3</th>\n",
       "      <td>70</td>\n",
       "      <td>65</td>\n",
       "      <td>0</td>\n",
       "    </tr>\n",
       "    <tr>\n",
       "      <th>4</th>\n",
       "      <td>30</td>\n",
       "      <td>70</td>\n",
       "      <td>1</td>\n",
       "    </tr>\n",
       "    <tr>\n",
       "      <th>5</th>\n",
       "      <td>75</td>\n",
       "      <td>60</td>\n",
       "      <td>0</td>\n",
       "    </tr>\n",
       "  </tbody>\n",
       "</table>\n",
       "</div>"
      ],
      "text/plain": [
       "   age  weight  likepizza\n",
       "0   50      65          0\n",
       "1   20      55          1\n",
       "2   15      40          1\n",
       "3   70      65          0\n",
       "4   30      70          1\n",
       "5   75      60          0"
      ]
     },
     "execution_count": 3,
     "metadata": {},
     "output_type": "execute_result"
    }
   ],
   "source": [
    "df = pd.read_csv(\"pizza.csv\")\n",
    "df"
   ]
  },
  {
   "cell_type": "code",
   "execution_count": 4,
   "id": "adea536d",
   "metadata": {},
   "outputs": [
    {
     "data": {
      "text/html": [
       "<div>\n",
       "<style scoped>\n",
       "    .dataframe tbody tr th:only-of-type {\n",
       "        vertical-align: middle;\n",
       "    }\n",
       "\n",
       "    .dataframe tbody tr th {\n",
       "        vertical-align: top;\n",
       "    }\n",
       "\n",
       "    .dataframe thead th {\n",
       "        text-align: right;\n",
       "    }\n",
       "</style>\n",
       "<table border=\"1\" class=\"dataframe\">\n",
       "  <thead>\n",
       "    <tr style=\"text-align: right;\">\n",
       "      <th></th>\n",
       "      <th>age</th>\n",
       "      <th>weight</th>\n",
       "      <th>likepizza</th>\n",
       "    </tr>\n",
       "  </thead>\n",
       "  <tbody>\n",
       "    <tr>\n",
       "      <th>0</th>\n",
       "      <td>50</td>\n",
       "      <td>65</td>\n",
       "      <td>0</td>\n",
       "    </tr>\n",
       "    <tr>\n",
       "      <th>1</th>\n",
       "      <td>20</td>\n",
       "      <td>55</td>\n",
       "      <td>1</td>\n",
       "    </tr>\n",
       "    <tr>\n",
       "      <th>2</th>\n",
       "      <td>15</td>\n",
       "      <td>40</td>\n",
       "      <td>1</td>\n",
       "    </tr>\n",
       "    <tr>\n",
       "      <th>3</th>\n",
       "      <td>70</td>\n",
       "      <td>65</td>\n",
       "      <td>0</td>\n",
       "    </tr>\n",
       "    <tr>\n",
       "      <th>4</th>\n",
       "      <td>30</td>\n",
       "      <td>70</td>\n",
       "      <td>1</td>\n",
       "    </tr>\n",
       "  </tbody>\n",
       "</table>\n",
       "</div>"
      ],
      "text/plain": [
       "   age  weight  likepizza\n",
       "0   50      65          0\n",
       "1   20      55          1\n",
       "2   15      40          1\n",
       "3   70      65          0\n",
       "4   30      70          1"
      ]
     },
     "execution_count": 4,
     "metadata": {},
     "output_type": "execute_result"
    }
   ],
   "source": [
    "df.head()"
   ]
  },
  {
   "cell_type": "code",
   "execution_count": 7,
   "id": "4c8183a4",
   "metadata": {},
   "outputs": [
    {
     "data": {
      "text/plain": [
       "Index(['age', 'weight', 'likepizza'], dtype='object')"
      ]
     },
     "execution_count": 7,
     "metadata": {},
     "output_type": "execute_result"
    }
   ],
   "source": [
    "df.columns"
   ]
  },
  {
   "cell_type": "code",
   "execution_count": 8,
   "id": "f94184bb",
   "metadata": {},
   "outputs": [
    {
     "data": {
      "text/plain": [
       "<bound method DataFrame.info of    age  weight  likepizza\n",
       "0   50      65          0\n",
       "1   20      55          1\n",
       "2   15      40          1\n",
       "3   70      65          0\n",
       "4   30      70          1\n",
       "5   75      60          0>"
      ]
     },
     "execution_count": 8,
     "metadata": {},
     "output_type": "execute_result"
    }
   ],
   "source": [
    "df.info"
   ]
  },
  {
   "cell_type": "code",
   "execution_count": 9,
   "id": "54398e8f",
   "metadata": {},
   "outputs": [
    {
     "data": {
      "text/plain": [
       "(6, 3)"
      ]
     },
     "execution_count": 9,
     "metadata": {},
     "output_type": "execute_result"
    }
   ],
   "source": [
    "df.shape"
   ]
  },
  {
   "cell_type": "markdown",
   "id": "71289a00",
   "metadata": {},
   "source": [
    "# Step 3 : Vizualize Relationship"
   ]
  },
  {
   "cell_type": "code",
   "execution_count": 10,
   "id": "80c28edc",
   "metadata": {},
   "outputs": [
    {
     "data": {
      "image/png": "[encoded data removed]",
      "text/plain": [
       "<Figure size 432x288 with 1 Axes>"
      ]
     },
     "metadata": {
      "needs_background": "light"
     },
     "output_type": "display_data"
    }
   ],
   "source": [
    "plt.xlabel(\"age\")\n",
    "plt.ylabel(\"weight\")\n",
    "plt.scatter(df.age, df.weight)\n",
    "\n",
    "\n",
    "plot = sns.scatterplot(x=df.age,y=df.weight,hue=df.likepizza)\n"
   ]
  },
  {
   "cell_type": "markdown",
   "id": "b303a4f6",
   "metadata": {},
   "source": [
    "# Step 4 : Prepare X Matrix and Y vector"
   ]
  },
  {
   "cell_type": "code",
   "execution_count": 15,
   "id": "6153f85a",
   "metadata": {},
   "outputs": [
    {
     "name": "stdout",
     "output_type": "stream",
     "text": [
      "   age  weight\n",
      "0   50      65\n",
      "1   20      55\n",
      "2   15      40\n",
      "3   70      65\n",
      "4   30      70\n",
      "5   75      60 \n",
      "\n",
      "   likepizza\n",
      "0          0\n",
      "1          1\n",
      "2          1\n",
      "3          0\n",
      "4          1\n",
      "5          0\n"
     ]
    }
   ],
   "source": [
    "x_df = df[['age','weight']]\n",
    "\n",
    "y_df = df[['likepizza']]\n",
    "\n",
    "print(x_df)\n",
    "print(y_df)"
   ]
  },
  {
   "cell_type": "markdown",
   "id": "78e0bb4b",
   "metadata": {},
   "source": [
    "# Step 5: Examine X and Y"
   ]
  },
  {
   "cell_type": "code",
   "execution_count": 21,
   "id": "7e7befde",
   "metadata": {},
   "outputs": [
    {
     "name": "stdout",
     "output_type": "stream",
     "text": [
      "   age  weight\n",
      "0   50      65\n",
      "1   20      55\n",
      "2   15      40\n",
      "3   70      65\n",
      "4   30      70\n",
      "5   75      60 \n",
      "\n",
      "Type of X Matrix <class 'pandas.core.frame.DataFrame'> \n",
      "\n",
      "   likepizza\n",
      "0          0\n",
      "1          1\n",
      "2          1\n",
      "3          0\n",
      "4          1\n",
      "5          0 \n",
      "\n",
      "Type of Y Vector  <class 'pandas.core.frame.DataFrame'> \n",
      "\n"
     ]
    }
   ],
   "source": [
    "print(x_df)\n",
    "print(\"Type of X Matrix\",type(x_df))\n",
    "print(y_df)\n",
    "print(\"Type of Y Vector \",type(y_df))"
   ]
  },
  {
   "cell_type": "markdown",
   "id": "6625aa73",
   "metadata": {},
   "source": [
    "# Step 6 : Model Building"
   ]
  },
  {
   "cell_type": "code",
   "execution_count": 24,
   "id": "d7559115",
   "metadata": {},
   "outputs": [
    {
     "data": {
      "text/plain": [
       "KNeighborsClassifier(n_neighbors=2)"
      ]
     },
     "execution_count": 24,
     "metadata": {},
     "output_type": "execute_result"
    }
   ],
   "source": [
    "# creating Instance for the model\n",
    "\n",
    "knn = KNeighborsClassifier(n_neighbors=2)    \n",
    "\n",
    "# Training / Fitting Data\n",
    "\n",
    "knn.fit(x_df,y_df)\n"
   ]
  },
  {
   "cell_type": "markdown",
   "id": "d21f11ea",
   "metadata": {},
   "source": [
    "# Step 7 : Model Testing"
   ]
  },
  {
   "cell_type": "markdown",
   "id": "25e1ab45",
   "metadata": {},
   "source": [
    "Will a Person who is 25 years old with weight 50kgs Like Pizza or not ?\n",
    "The answer should be 1 (ie Yes)"
   ]
  },
  {
   "cell_type": "code",
   "execution_count": 25,
   "id": "b3527435",
   "metadata": {},
   "outputs": [
    {
     "name": "stdout",
     "output_type": "stream",
     "text": [
      "[1]\n"
     ]
    }
   ],
   "source": [
    "print(knn.predict([[25,50]]))"
   ]
  },
  {
   "cell_type": "markdown",
   "id": "d7785710",
   "metadata": {},
   "source": [
    "Will a Person who is 60 years old with weight 60 kgs Like Pizza or not ?\n",
    "The answer should be 0 (ie No)"
   ]
  },
  {
   "cell_type": "code",
   "execution_count": 26,
   "id": "f0d45a7e",
   "metadata": {},
   "outputs": [
    {
     "name": "stdout",
     "output_type": "stream",
     "text": [
      "[0]\n"
     ]
    }
   ],
   "source": [
    "print(knn.predict([[60,60]]))"
   ]
  },
  {
   "cell_type": "code",
   "execution_count": 27,
   "id": "bcd8933d",
   "metadata": {},
   "outputs": [
    {
     "name": "stdout",
     "output_type": "stream",
     "text": [
      "1.0\n"
     ]
    }
   ],
   "source": [
    "print(knn.score(x_df,y_df))"
   ]
  },
  {
   "cell_type": "markdown",
   "id": "21bc6913",
   "metadata": {},
   "source": [
    "# Step 8 : Change n_neighbors = 3"
   ]
  },
  {
   "cell_type": "code",
   "execution_count": 28,
   "id": "bfa8e065",
   "metadata": {},
   "outputs": [
    {
     "name": "stdout",
     "output_type": "stream",
     "text": [
      "[1]\n",
      "[0]\n"
     ]
    }
   ],
   "source": [
    "# creating Instance for the model\n",
    "\n",
    "knn = KNeighborsClassifier(n_neighbors=3)    \n",
    "\n",
    "# Training / Fitting Data\n",
    "\n",
    "knn.fit(x_df,y_df)\n",
    "\n",
    "# predicting the outcomes \n",
    "\n",
    "# when age = 25 and weight = 50\n",
    "print(knn.predict([[25,50]]))\n",
    "\n",
    "\n",
    "# when age = 60 and weight = 60\n",
    "print(knn.predict([[60,60]]))"
   ]
  },
  {
   "cell_type": "markdown",
   "id": "0af4048e",
   "metadata": {},
   "source": [
    "The results when n_neighbors = 2 is same as n_neighbors = 3"
   ]
  },
  {
   "cell_type": "markdown",
   "id": "a2712448",
   "metadata": {},
   "source": [
    "# Step 9 : Predict on entire dataset"
   ]
  },
  {
   "cell_type": "code",
   "execution_count": 29,
   "id": "8e0dc537",
   "metadata": {},
   "outputs": [
    {
     "data": {
      "text/plain": [
       "array([0, 1, 1, 0, 1, 0], dtype=int64)"
      ]
     },
     "execution_count": 29,
     "metadata": {},
     "output_type": "execute_result"
    }
   ],
   "source": [
    "y_pred = knn.predict(x_df)\n",
    "y_pred"
   ]
  },
  {
   "cell_type": "markdown",
   "id": "4655fca2",
   "metadata": {},
   "source": [
    "# Step 10 :  Accuracy Function"
   ]
  },
  {
   "cell_type": "code",
   "execution_count": 30,
   "id": "52430b4c",
   "metadata": {},
   "outputs": [],
   "source": [
    "def accuracy(actual,pred):\n",
    "    return sum(actual == pred)/float(actual.shape[0])"
   ]
  },
  {
   "cell_type": "markdown",
   "id": "e2a1f592",
   "metadata": {},
   "source": [
    "# Step 11 :  Find Accuracy "
   ]
  },
  {
   "cell_type": "code",
   "execution_count": 32,
   "id": "80101df0",
   "metadata": {},
   "outputs": [
    {
     "data": {
      "text/plain": [
       "array([1.])"
      ]
     },
     "execution_count": 32,
     "metadata": {},
     "output_type": "execute_result"
    }
   ],
   "source": [
    "y_np = y_df.to_numpy()\n",
    "y_pred = y_pred.reshape(6,1)\n",
    "\n",
    "accuracy(y_np, y_pred)"
   ]
  },
  {
   "cell_type": "markdown",
   "id": "72e01d43",
   "metadata": {},
   "source": [
    "# Step 12 :  Prediction on Test Set"
   ]
  },
  {
   "cell_type": "code",
   "execution_count": 33,
   "id": "b8c44845",
   "metadata": {},
   "outputs": [],
   "source": [
    "test = pd.read_csv(\"pizza_test.csv\")"
   ]
  },
  {
   "cell_type": "code",
   "execution_count": 34,
   "id": "39a2e91e",
   "metadata": {},
   "outputs": [
    {
     "data": {
      "text/html": [
       "<div>\n",
       "<style scoped>\n",
       "    .dataframe tbody tr th:only-of-type {\n",
       "        vertical-align: middle;\n",
       "    }\n",
       "\n",
       "    .dataframe tbody tr th {\n",
       "        vertical-align: top;\n",
       "    }\n",
       "\n",
       "    .dataframe thead th {\n",
       "        text-align: right;\n",
       "    }\n",
       "</style>\n",
       "<table border=\"1\" class=\"dataframe\">\n",
       "  <thead>\n",
       "    <tr style=\"text-align: right;\">\n",
       "      <th></th>\n",
       "      <th>age</th>\n",
       "      <th>weight</th>\n",
       "      <th>likepizza</th>\n",
       "    </tr>\n",
       "  </thead>\n",
       "  <tbody>\n",
       "    <tr>\n",
       "      <th>0</th>\n",
       "      <td>48</td>\n",
       "      <td>68</td>\n",
       "      <td>1</td>\n",
       "    </tr>\n",
       "    <tr>\n",
       "      <th>1</th>\n",
       "      <td>35</td>\n",
       "      <td>45</td>\n",
       "      <td>1</td>\n",
       "    </tr>\n",
       "    <tr>\n",
       "      <th>2</th>\n",
       "      <td>15</td>\n",
       "      <td>40</td>\n",
       "      <td>0</td>\n",
       "    </tr>\n",
       "    <tr>\n",
       "      <th>3</th>\n",
       "      <td>55</td>\n",
       "      <td>65</td>\n",
       "      <td>0</td>\n",
       "    </tr>\n",
       "  </tbody>\n",
       "</table>\n",
       "</div>"
      ],
      "text/plain": [
       "   age  weight  likepizza\n",
       "0   48      68          1\n",
       "1   35      45          1\n",
       "2   15      40          0\n",
       "3   55      65          0"
      ]
     },
     "execution_count": 34,
     "metadata": {},
     "output_type": "execute_result"
    }
   ],
   "source": [
    "test.head()"
   ]
  },
  {
   "cell_type": "code",
   "execution_count": 35,
   "id": "e732203c",
   "metadata": {},
   "outputs": [
    {
     "data": {
      "text/plain": [
       "<bound method DataFrame.info of    age  weight  likepizza\n",
       "0   48      68          1\n",
       "1   35      45          1\n",
       "2   15      40          0\n",
       "3   55      65          0>"
      ]
     },
     "execution_count": 35,
     "metadata": {},
     "output_type": "execute_result"
    }
   ],
   "source": [
    "test.info"
   ]
  },
  {
   "cell_type": "code",
   "execution_count": 36,
   "id": "40706a37",
   "metadata": {},
   "outputs": [
    {
     "data": {
      "text/plain": [
       "(4, 3)"
      ]
     },
     "execution_count": 36,
     "metadata": {},
     "output_type": "execute_result"
    }
   ],
   "source": [
    "test.shape"
   ]
  },
  {
   "cell_type": "code",
   "execution_count": 37,
   "id": "e5f16630",
   "metadata": {},
   "outputs": [
    {
     "data": {
      "text/plain": [
       "Index(['age', 'weight', 'likepizza'], dtype='object')"
      ]
     },
     "execution_count": 37,
     "metadata": {},
     "output_type": "execute_result"
    }
   ],
   "source": [
    "test.columns"
   ]
  },
  {
   "cell_type": "code",
   "execution_count": 38,
   "id": "16950c0a",
   "metadata": {},
   "outputs": [],
   "source": [
    "x_test = test.drop(\"likepizza\",axis='columns')\n",
    "y_test = test[['likepizza']]"
   ]
  },
  {
   "cell_type": "code",
   "execution_count": 41,
   "id": "32e93e39",
   "metadata": {},
   "outputs": [
    {
     "name": "stdout",
     "output_type": "stream",
     "text": [
      "   age  weight\n",
      "0   48      68\n",
      "1   35      45\n",
      "2   15      40\n",
      "3   55      65 \n",
      "\n",
      "    likepizza\n",
      "0          1\n",
      "1          1\n",
      "2          0\n",
      "3          0\n"
     ]
    }
   ],
   "source": [
    "print(x_test,y_test)"
   ]
  },
  {
   "cell_type": "code",
   "execution_count": 43,
   "id": "8837c745",
   "metadata": {},
   "outputs": [],
   "source": [
    "knn = KNeighborsClassifier(n_neighbors=2)    "
   ]
  },
  {
   "cell_type": "code",
   "execution_count": 55,
   "id": "b2ed586d",
   "metadata": {},
   "outputs": [
    {
     "data": {
      "text/plain": [
       "KNeighborsClassifier(n_neighbors=3)"
      ]
     },
     "execution_count": 55,
     "metadata": {},
     "output_type": "execute_result"
    }
   ],
   "source": [
    "knn.fit(x_test,y_test)"
   ]
  },
  {
   "cell_type": "code",
   "execution_count": 66,
   "id": "f7cd12e1",
   "metadata": {},
   "outputs": [
    {
     "data": {
      "text/plain": [
       "array([0.5])"
      ]
     },
     "execution_count": 66,
     "metadata": {},
     "output_type": "execute_result"
    }
   ],
   "source": [
    "y_pred_test = knn.predict(x_test)\n",
    "\n",
    "y_test_np = y_test.to_numpy()\n",
    "\n",
    "y_pred_test = y_pred_test.reshape(4,1)\n",
    "\n",
    "\n",
    "accuracy(y_test_np, y_pred_test)\n",
    "\n"
   ]
  },
  {
   "cell_type": "markdown",
   "id": "9558b4c8",
   "metadata": {},
   "source": [
    "# Step 13 : Find the best value for k"
   ]
  },
  {
   "cell_type": "code",
   "execution_count": 51,
   "id": "1e357fb2",
   "metadata": {},
   "outputs": [],
   "source": [
    "scores=[]\n",
    "for i in range(1,4):\n",
    "    knn = KNeighborsClassifier(n_neighbors=i)   \n",
    "    knn.fit(x_df,y_df)\n",
    "    y_pred_test = knn.predict(x_test)\n",
    "    y_test_np = y_test.to_numpy()  \n",
    "    y_pred_test = y_pred_test.reshape(4,1)\n",
    "    acc = accuracy(y_test_np, y_pred_test)\n",
    "    scores.append((i,float(acc)))\n",
    "    "
   ]
  },
  {
   "cell_type": "code",
   "execution_count": 52,
   "id": "bebee039",
   "metadata": {},
   "outputs": [
    {
     "data": {
      "text/plain": [
       "[(1, 0.5), (2, 0.5), (3, 0.5)]"
      ]
     },
     "execution_count": 52,
     "metadata": {},
     "output_type": "execute_result"
    }
   ],
   "source": [
    "scores"
   ]
  },
  {
   "cell_type": "markdown",
   "id": "32c20a04",
   "metadata": {},
   "source": [
    "# Step 14 :  accuracy_score function"
   ]
  },
  {
   "cell_type": "code",
   "execution_count": 54,
   "id": "f97d9254",
   "metadata": {
    "scrolled": true
   },
   "outputs": [
    {
     "name": "stdout",
     "output_type": "stream",
     "text": [
      "1.0\n"
     ]
    }
   ],
   "source": [
    "# training dataset\n",
    "\n",
    "score1 = accuracy_score(y_np, y_pred)  \n",
    "print(score1)  "
   ]
  },
  {
   "cell_type": "code",
   "execution_count": 53,
   "id": "56dfc69b",
   "metadata": {},
   "outputs": [
    {
     "name": "stdout",
     "output_type": "stream",
     "text": [
      "0.5\n"
     ]
    }
   ],
   "source": [
    "# testing dataset\n",
    "\n",
    "score = accuracy_score(y_test_np, y_pred_test)  \n",
    "print(score)  "
   ]
  },
  {
   "cell_type": "code",
   "execution_count": null,
   "id": "eb7bf78a",
   "metadata": {},
   "outputs": [],
   "source": []
  }
 ],
 "metadata": {
  "kernelspec": {
   "display_name": "Python 3 (ipykernel)",
   "language": "python",
   "name": "python3"
  },
  "language_info": {
   "codemirror_mode": {
    "name": "ipython",
    "version": 3
   },
   "file_extension": ".py",
   "mimetype": "text/x-python",
   "name": "python",
   "nbconvert_exporter": "python",
   "pygments_lexer": "ipython3",
   "version": "3.9.12"
  }
 },
 "nbformat": 4,
 "nbformat_minor": 5
}
